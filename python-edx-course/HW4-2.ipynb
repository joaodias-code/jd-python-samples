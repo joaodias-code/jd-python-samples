{
 "cells": [
  {
   "cell_type": "markdown",
   "metadata": {},
   "source": [
    "# Using Python for Research Homework: Week 4, Case Study 2\n",
    "\n",
    "In this case study, we will continue taking a look at patterns of flight for each of the three birds in our dataset."
   ]
  },
  {
   "cell_type": "code",
   "execution_count": 164,
   "metadata": {},
   "outputs": [
    {
     "data": {
      "text/html": [
       "<div>\n",
       "<style scoped>\n",
       "    .dataframe tbody tr th:only-of-type {\n",
       "        vertical-align: middle;\n",
       "    }\n",
       "\n",
       "    .dataframe tbody tr th {\n",
       "        vertical-align: top;\n",
       "    }\n",
       "\n",
       "    .dataframe thead th {\n",
       "        text-align: right;\n",
       "    }\n",
       "</style>\n",
       "<table border=\"1\" class=\"dataframe\">\n",
       "  <thead>\n",
       "    <tr style=\"text-align: right;\">\n",
       "      <th></th>\n",
       "      <th>altitude</th>\n",
       "      <th>date_time</th>\n",
       "      <th>device_info_serial</th>\n",
       "      <th>direction</th>\n",
       "      <th>latitude</th>\n",
       "      <th>longitude</th>\n",
       "      <th>speed_2d</th>\n",
       "      <th>bird_name</th>\n",
       "    </tr>\n",
       "  </thead>\n",
       "  <tbody>\n",
       "    <tr>\n",
       "      <th>0</th>\n",
       "      <td>71</td>\n",
       "      <td>2013-08-15 00:18:08+00</td>\n",
       "      <td>851</td>\n",
       "      <td>-150.469753</td>\n",
       "      <td>49.419860</td>\n",
       "      <td>2.120733</td>\n",
       "      <td>0.150000</td>\n",
       "      <td>Eric</td>\n",
       "    </tr>\n",
       "    <tr>\n",
       "      <th>1</th>\n",
       "      <td>68</td>\n",
       "      <td>2013-08-15 00:48:07+00</td>\n",
       "      <td>851</td>\n",
       "      <td>-136.151141</td>\n",
       "      <td>49.419880</td>\n",
       "      <td>2.120746</td>\n",
       "      <td>2.438360</td>\n",
       "      <td>Eric</td>\n",
       "    </tr>\n",
       "    <tr>\n",
       "      <th>2</th>\n",
       "      <td>68</td>\n",
       "      <td>2013-08-15 01:17:58+00</td>\n",
       "      <td>851</td>\n",
       "      <td>160.797477</td>\n",
       "      <td>49.420310</td>\n",
       "      <td>2.120885</td>\n",
       "      <td>0.596657</td>\n",
       "      <td>Eric</td>\n",
       "    </tr>\n",
       "    <tr>\n",
       "      <th>3</th>\n",
       "      <td>73</td>\n",
       "      <td>2013-08-15 01:47:51+00</td>\n",
       "      <td>851</td>\n",
       "      <td>32.769360</td>\n",
       "      <td>49.420359</td>\n",
       "      <td>2.120859</td>\n",
       "      <td>0.310161</td>\n",
       "      <td>Eric</td>\n",
       "    </tr>\n",
       "    <tr>\n",
       "      <th>4</th>\n",
       "      <td>69</td>\n",
       "      <td>2013-08-15 02:17:42+00</td>\n",
       "      <td>851</td>\n",
       "      <td>45.191230</td>\n",
       "      <td>49.420331</td>\n",
       "      <td>2.120887</td>\n",
       "      <td>0.193132</td>\n",
       "      <td>Eric</td>\n",
       "    </tr>\n",
       "  </tbody>\n",
       "</table>\n",
       "</div>"
      ],
      "text/plain": [
       "   altitude               date_time  device_info_serial   direction  \\\n",
       "0        71  2013-08-15 00:18:08+00                 851 -150.469753   \n",
       "1        68  2013-08-15 00:48:07+00                 851 -136.151141   \n",
       "2        68  2013-08-15 01:17:58+00                 851  160.797477   \n",
       "3        73  2013-08-15 01:47:51+00                 851   32.769360   \n",
       "4        69  2013-08-15 02:17:42+00                 851   45.191230   \n",
       "\n",
       "    latitude  longitude  speed_2d bird_name  \n",
       "0  49.419860   2.120733  0.150000      Eric  \n",
       "1  49.419880   2.120746  2.438360      Eric  \n",
       "2  49.420310   2.120885  0.596657      Eric  \n",
       "3  49.420359   2.120859  0.310161      Eric  \n",
       "4  49.420331   2.120887  0.193132      Eric  "
      ]
     },
     "execution_count": 164,
     "metadata": {},
     "output_type": "execute_result"
    }
   ],
   "source": [
    "# DO NOT EDIT THIS CODE\n",
    "import pandas as pd\n",
    "import numpy as np\n",
    "#birddata = pd.read_csv(\"https://courses.edx.org/asset-v1:HarvardX+PH526x+2T2019+type@asset+block@bird_tracking.csv\", index_col=0)\n",
    "birddata = pd.read_csv('_datasets/bird_tracking.csv', index_col=0)\n",
    "birddata.head()"
   ]
  },
  {
   "cell_type": "code",
   "execution_count": 165,
   "metadata": {},
   "outputs": [
    {
     "data": {
      "text/plain": [
       "(61920, 8)"
      ]
     },
     "execution_count": 165,
     "metadata": {},
     "output_type": "execute_result"
    }
   ],
   "source": [
    "birddata.shape"
   ]
  },
  {
   "cell_type": "markdown",
   "metadata": {},
   "source": [
    "### Exercise 1\n",
    "\n",
    "In this case study, we will continue taking a look at patterns of flight for each of the three birds in our dataset. We will group the flight patterns by bird and date, and plot the mean altitude for these groupings.\n",
    "\n",
    "`pandas` makes it easy to perform basic operations on groups within a dataframe without needing to loop through each value in the dataframe. In this exercise, we will group the dataframe by `birdname` and then find the average `speed_2d` for each bird.\n",
    "\n",
    "#### Instructions \n",
    "- Fill in the code to find the mean altitudes of each bird using the pre-loaded `birddata` dataframe. "
   ]
  },
  {
   "cell_type": "code",
   "execution_count": 166,
   "metadata": {},
   "outputs": [
    {
     "name": "stdout",
     "output_type": "stream",
     "text": [
      "bird_name\n",
      "Eric     2.300545\n",
      "Nico     2.908726\n",
      "Sanne    2.450434\n",
      "Name: speed_2d, dtype: float64\n",
      "bird_name\n",
      "Eric     60.249406\n",
      "Nico     67.900478\n",
      "Sanne    29.159922\n",
      "Name: altitude, dtype: float64\n"
     ]
    }
   ],
   "source": [
    "# First, use `groupby()` to group the data by \"bird_name\".\n",
    "grouped_birds = birddata.groupby(['bird_name'])\n",
    "\n",
    "# Now calculate the mean of `speed_2d` using the `mean()` function.\n",
    "mean_speeds = grouped_birds['speed_2d'].mean()\n",
    "print(mean_speeds)\n",
    "\n",
    "# Find the mean `altitude` for each bird.\n",
    "mean_altitudes = grouped_birds['altitude'].mean()\n",
    "print(mean_altitudes)"
   ]
  },
  {
   "cell_type": "markdown",
   "metadata": {},
   "source": [
    "### Exercise 2\n",
    "\n",
    "In this exercise, we will group the flight times by date and calculate the mean altitude within that day.\n",
    "\n",
    "#### Instructions \n",
    "- Convert `birddata.date_time` to the `pd.datetime` format, and store as `birddata[\"date\"]`.\n",
    "- Fill in the code to find the mean altitudes for each day."
   ]
  },
  {
   "cell_type": "code",
   "execution_count": 167,
   "metadata": {},
   "outputs": [
    {
     "name": "stdout",
     "output_type": "stream",
     "text": [
      "<class 'pandas.core.frame.DataFrame'>\n",
      "Int64Index: 61920 entries, 0 to 61919\n",
      "Data columns (total 8 columns):\n",
      " #   Column              Non-Null Count  Dtype  \n",
      "---  ------              --------------  -----  \n",
      " 0   altitude            61920 non-null  int64  \n",
      " 1   date_time           61920 non-null  object \n",
      " 2   device_info_serial  61920 non-null  int64  \n",
      " 3   direction           61477 non-null  float64\n",
      " 4   latitude            61920 non-null  float64\n",
      " 5   longitude           61920 non-null  float64\n",
      " 6   speed_2d            61477 non-null  float64\n",
      " 7   bird_name           61920 non-null  object \n",
      "dtypes: float64(4), int64(2), object(2)\n",
      "memory usage: 4.3+ MB\n"
     ]
    }
   ],
   "source": [
    "birddata.info()"
   ]
  },
  {
   "cell_type": "code",
   "execution_count": 168,
   "metadata": {},
   "outputs": [
    {
     "data": {
      "text/html": [
       "<div>\n",
       "<style scoped>\n",
       "    .dataframe tbody tr th:only-of-type {\n",
       "        vertical-align: middle;\n",
       "    }\n",
       "\n",
       "    .dataframe tbody tr th {\n",
       "        vertical-align: top;\n",
       "    }\n",
       "\n",
       "    .dataframe thead th {\n",
       "        text-align: right;\n",
       "    }\n",
       "</style>\n",
       "<table border=\"1\" class=\"dataframe\">\n",
       "  <thead>\n",
       "    <tr style=\"text-align: right;\">\n",
       "      <th></th>\n",
       "      <th>altitude</th>\n",
       "      <th>date_time</th>\n",
       "      <th>device_info_serial</th>\n",
       "      <th>direction</th>\n",
       "      <th>latitude</th>\n",
       "      <th>longitude</th>\n",
       "      <th>speed_2d</th>\n",
       "      <th>bird_name</th>\n",
       "      <th>date</th>\n",
       "    </tr>\n",
       "  </thead>\n",
       "  <tbody>\n",
       "    <tr>\n",
       "      <th>0</th>\n",
       "      <td>71</td>\n",
       "      <td>2013-08-15 00:18:08</td>\n",
       "      <td>851</td>\n",
       "      <td>-150.469753</td>\n",
       "      <td>49.419860</td>\n",
       "      <td>2.120733</td>\n",
       "      <td>0.150000</td>\n",
       "      <td>Eric</td>\n",
       "      <td>2013-08-15</td>\n",
       "    </tr>\n",
       "    <tr>\n",
       "      <th>1</th>\n",
       "      <td>68</td>\n",
       "      <td>2013-08-15 00:48:07</td>\n",
       "      <td>851</td>\n",
       "      <td>-136.151141</td>\n",
       "      <td>49.419880</td>\n",
       "      <td>2.120746</td>\n",
       "      <td>2.438360</td>\n",
       "      <td>Eric</td>\n",
       "      <td>2013-08-15</td>\n",
       "    </tr>\n",
       "    <tr>\n",
       "      <th>2</th>\n",
       "      <td>68</td>\n",
       "      <td>2013-08-15 01:17:58</td>\n",
       "      <td>851</td>\n",
       "      <td>160.797477</td>\n",
       "      <td>49.420310</td>\n",
       "      <td>2.120885</td>\n",
       "      <td>0.596657</td>\n",
       "      <td>Eric</td>\n",
       "      <td>2013-08-15</td>\n",
       "    </tr>\n",
       "    <tr>\n",
       "      <th>3</th>\n",
       "      <td>73</td>\n",
       "      <td>2013-08-15 01:47:51</td>\n",
       "      <td>851</td>\n",
       "      <td>32.769360</td>\n",
       "      <td>49.420359</td>\n",
       "      <td>2.120859</td>\n",
       "      <td>0.310161</td>\n",
       "      <td>Eric</td>\n",
       "      <td>2013-08-15</td>\n",
       "    </tr>\n",
       "    <tr>\n",
       "      <th>4</th>\n",
       "      <td>69</td>\n",
       "      <td>2013-08-15 02:17:42</td>\n",
       "      <td>851</td>\n",
       "      <td>45.191230</td>\n",
       "      <td>49.420331</td>\n",
       "      <td>2.120887</td>\n",
       "      <td>0.193132</td>\n",
       "      <td>Eric</td>\n",
       "      <td>2013-08-15</td>\n",
       "    </tr>\n",
       "  </tbody>\n",
       "</table>\n",
       "</div>"
      ],
      "text/plain": [
       "   altitude           date_time  device_info_serial   direction   latitude  \\\n",
       "0        71 2013-08-15 00:18:08                 851 -150.469753  49.419860   \n",
       "1        68 2013-08-15 00:48:07                 851 -136.151141  49.419880   \n",
       "2        68 2013-08-15 01:17:58                 851  160.797477  49.420310   \n",
       "3        73 2013-08-15 01:47:51                 851   32.769360  49.420359   \n",
       "4        69 2013-08-15 02:17:42                 851   45.191230  49.420331   \n",
       "\n",
       "   longitude  speed_2d bird_name       date  \n",
       "0   2.120733  0.150000      Eric 2013-08-15  \n",
       "1   2.120746  2.438360      Eric 2013-08-15  \n",
       "2   2.120885  0.596657      Eric 2013-08-15  \n",
       "3   2.120859  0.310161      Eric 2013-08-15  \n",
       "4   2.120887  0.193132      Eric 2013-08-15  "
      ]
     },
     "execution_count": 168,
     "metadata": {},
     "output_type": "execute_result"
    }
   ],
   "source": [
    "import datetime\n",
    "\n",
    "# Convert birddata.date_time to the `pd.datetime` format.\n",
    "timestamps = []\n",
    "for ix in range(len(birddata)):\n",
    "    timestamps.append(datetime.datetime.strptime(birddata.date_time.iloc[ix][:-3], \"%Y-%m-%d %H:%M:%S\"))\n",
    "\n",
    "birddata.date_time = pd.Series(timestamps, index=birddata.index)\n",
    "#birddata.date_time = pd.to_datetime(birddata['date_time'], format = \"%Y-%m-%d %H:%M:%S\")\n",
    "\n",
    "# Create a new column of day of observation\n",
    "birddata[\"date\"] = birddata['date_time'].dt.normalize()\n",
    "birddata.head()"
   ]
  },
  {
   "cell_type": "code",
   "execution_count": 174,
   "metadata": {},
   "outputs": [
    {
     "data": {
      "text/plain": [
       "75.64609053497942"
      ]
     },
     "execution_count": 174,
     "metadata": {},
     "output_type": "execute_result"
    }
   ],
   "source": [
    "#birddata[(birddata[\"date\"] == '2013-09-12')]\n",
    "#birddata.info()\n",
    "#birddata[(birddata['date'] == '2013-09-12 00:00:00') & (birddata['date_time'] <= '2013-09-12 23:59:59')]\n",
    "#birddata.head(100)\n",
    "#birddata = birddata[(birddata[\"date\"] == '2013-09-12')]\n",
    "\n",
    "# Use `groupby()` to group the data by date.\n",
    "grouped_bydates = birddata.groupby([\"date\"])\n",
    "\n",
    "# Find the mean `altitude` for each date.\n",
    "mean_altitudes_perday = grouped_bydates['altitude'].mean()\n",
    "mean_altitudes_perday.loc['2013-09-12']"
   ]
  },
  {
   "cell_type": "markdown",
   "metadata": {},
   "source": [
    "### Exercise 3\n",
    "\n",
    "In this exercise, we will group the flight times by both bird and date, and calculate the mean altitude for each.\n",
    "\n",
    "#### Instructions \n",
    "- `birddata` already contains the `date` column. To find the average speed for each bird and day, create a new grouped dataframe called `grouped_birdday` that groups the data by both `bird_name` and date."
   ]
  },
  {
   "cell_type": "code",
   "execution_count": 177,
   "metadata": {},
   "outputs": [
    {
     "data": {
      "text/plain": [
       "121.35365853658537"
      ]
     },
     "execution_count": 177,
     "metadata": {},
     "output_type": "execute_result"
    }
   ],
   "source": [
    "# Use `groupby()` to group the data by bird and date.\n",
    "grouped_birdday = birddata.groupby([\"bird_name\", \"date\"])\n",
    "#grouped_birdday\n",
    "\n",
    "# Find the mean `altitude` for each bird and date.\n",
    "mean_altitudes_perday = grouped_birdday['altitude'].mean()\n",
    "\n",
    "# what: Eric on 2013-08-18\n",
    "mean_altitudes_perday.loc['Eric', '2013-08-18']"
   ]
  },
  {
   "cell_type": "markdown",
   "metadata": {},
   "source": [
    "### Exercise 4\n",
    "\n",
    "Great! Now find the average speed for each bird and day.\n",
    "\n",
    "#### Instructions \n",
    "\n",
    "- Store these are three `pandas` `Series` objects, one for each bird.\n",
    "- Use the plotting code provided to plot the average speeds for each bird."
   ]
  },
  {
   "cell_type": "code",
   "execution_count": 178,
   "metadata": {},
   "outputs": [
    {
     "data": {
      "image/png": "[encoded data removed]",
      "text/plain": [
       "<Figure size 432x288 with 1 Axes>"
      ]
     },
     "metadata": {
      "needs_background": "light"
     },
     "output_type": "display_data"
    }
   ],
   "source": [
    "import matplotlib.pyplot as plt\n",
    "\n",
    "mean_speed_perday = grouped_birdday['speed_2d'].mean()\n",
    "\n",
    "eric_daily_speed  = mean_speed_perday.loc['Eric'] # Enter your code here.\n",
    "sanne_daily_speed = mean_speed_perday.loc['Sanne'] # Enter your code here.\n",
    "nico_daily_speed  = mean_speed_perday.loc['Nico'] # Enter your code here.\n",
    "\n",
    "eric_daily_speed.plot(label=\"Eric\")\n",
    "sanne_daily_speed.plot(label=\"Sanne\")\n",
    "nico_daily_speed.plot(label=\"Nico\")\n",
    "plt.legend(loc=\"upper left\")\n",
    "plt.show()"
   ]
  },
  {
   "cell_type": "code",
   "execution_count": 179,
   "metadata": {},
   "outputs": [
    {
     "data": {
      "text/plain": [
       "2.8324654508684057"
      ]
     },
     "execution_count": 179,
     "metadata": {},
     "output_type": "execute_result"
    }
   ],
   "source": [
    "#exercise = what is: bird Nico on 2014-04-04\n",
    "mean_speed_perday.loc['Nico', '2014-04-04']"
   ]
  }
 ],
 "metadata": {
  "kernelspec": {
   "display_name": "Python 3",
   "language": "python",
   "name": "python3"
  },
  "language_info": {
   "codemirror_mode": {
    "name": "ipython",
    "version": 3
   },
   "file_extension": ".py",
   "mimetype": "text/x-python",
   "name": "python",
   "nbconvert_exporter": "python",
   "pygments_lexer": "ipython3",
   "version": "3.7.7"
  }
 },
 "nbformat": 4,
 "nbformat_minor": 4
}
