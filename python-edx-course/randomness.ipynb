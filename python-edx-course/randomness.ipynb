{
 "cells": [
  {
   "cell_type": "code",
   "execution_count": 2,
   "metadata": {},
   "outputs": [],
   "source": [
    "import random\n",
    "import numpy as np\n",
    "import matplotlib.pyplot as plt\n",
    "import time"
   ]
  },
  {
   "cell_type": "code",
   "execution_count": 7,
   "metadata": {},
   "outputs": [
    {
     "data": {
      "text/plain": [
       "range(1, 9)"
      ]
     },
     "execution_count": 7,
     "metadata": {},
     "output_type": "execute_result"
    }
   ],
   "source": [
    "#escolher aletoriamente 3 dados com lados diferentes\n",
    "die = random.choice([range(1,7), range(1,9), range(1,11)])\n",
    "die"
   ]
  },
  {
   "cell_type": "code",
   "execution_count": 8,
   "metadata": {},
   "outputs": [
    {
     "data": {
      "text/plain": [
       "7"
      ]
     },
     "execution_count": 8,
     "metadata": {},
     "output_type": "execute_result"
    }
   ],
   "source": [
    "random.choice(die)"
   ]
  },
  {
   "cell_type": "code",
   "execution_count": 41,
   "metadata": {},
   "outputs": [
    {
     "data": {
      "text/plain": [
       "44"
      ]
     },
     "execution_count": 41,
     "metadata": {},
     "output_type": "execute_result"
    }
   ],
   "source": [
    "sum(random.choice(range(10)) for i in range(10))"
   ]
  },
  {
   "cell_type": "code",
   "execution_count": 44,
   "metadata": {},
   "outputs": [
    {
     "data": {
      "image/png": "[encoded data removed]",
      "text/plain": [
       "<Figure size 432x288 with 1 Axes>"
      ]
     },
     "metadata": {
      "needs_background": "light"
     },
     "output_type": "display_data"
    }
   ],
   "source": [
    "rolls = []\n",
    "for k in range(100):\n",
    "    rolls.append(random.choice([1,2,3,4,5,6]))\n",
    "plt.hist(rolls, bins = np.linspace(0.5, 6.5, 7)); # use 7 because number bins\n"
   ]
  },
  {
   "cell_type": "code",
   "execution_count": 50,
   "metadata": {},
   "outputs": [
    {
     "data": {
      "image/png": "[encoded data removed]",
      "text/plain": [
       "<Figure size 432x288 with 4 Axes>"
      ]
     },
     "metadata": {
      "needs_background": "light"
     },
     "output_type": "display_data"
    }
   ],
   "source": [
    "#se aumenta a quantiade de valores distribuidos na mesma faixa, tende a ficar igual\n",
    "def gerar_hist(tam):\n",
    "    rolls = []\n",
    "    for k in range(tam):\n",
    "        rolls.append(random.choice([1,2,3,4,5,6]))\n",
    "    plt.hist(rolls, bins = np.linspace(0.5, 6.5, 7)); # use 7 because number bins\n",
    "\n",
    "plt.subplot(221)\n",
    "plt.title('Hist 100')\n",
    "gerar_hist(100)\n",
    "plt.subplot(222)\n",
    "plt.title('Hist 1.000')\n",
    "gerar_hist(1000)\n",
    "plt.subplot(223)\n",
    "plt.title('Hist 10.000')\n",
    "gerar_hist(10000)\n",
    "plt.subplot(224)\n",
    "plt.title('Hist 100.000')\n",
    "gerar_hist(100000)\n",
    "    "
   ]
  },
  {
   "cell_type": "code",
   "execution_count": 53,
   "metadata": {},
   "outputs": [
    {
     "data": {
      "image/png": "[encoded data removed]",
      "text/plain": [
       "<Figure size 432x288 with 4 Axes>"
      ]
     },
     "metadata": {
      "needs_background": "light"
     },
     "output_type": "display_data"
    }
   ],
   "source": [
    "#agora note a diferença.. mas ainda em python (ja é mais rapido)\n",
    "def gerar_hist(tam):\n",
    "    ys = []\n",
    "    for rep in range(tam):\n",
    "        y = 0\n",
    "        for k in range(10):\n",
    "            x = random.choice([1,2,3,4,5,6])\n",
    "            y = y + x\n",
    "        ys.append(y)\n",
    "    plt.title('Hist ' + str(tam))\n",
    "    plt.hist(ys)\n",
    "\n",
    "plt.subplot(221)\n",
    "gerar_hist(100)\n",
    "plt.subplot(222)\n",
    "gerar_hist(1000)\n",
    "plt.subplot(223)\n",
    "gerar_hist(10000)\n",
    "plt.subplot(224)\n",
    "gerar_hist(1000000)"
   ]
  },
  {
   "cell_type": "code",
   "execution_count": 85,
   "metadata": {},
   "outputs": [
    {
     "name": "stdout",
     "output_type": "stream",
     "text": [
      "0.018831710902452947\n",
      "[0.38537972 0.49644812 0.28561166 0.76533453 0.55848625]\n",
      "[[0.2841271  0.33132973 0.58968796]\n",
      " [0.22075441 0.58430358 0.78380953]\n",
      " [0.93874736 0.64963618 0.65745896]\n",
      " [0.40797648 0.52072106 0.69734292]\n",
      " [0.95884666 0.57337111 0.00790596]]\n",
      "[[[0.35130868 0.58600842 0.14508575]\n",
      "  [0.11683343 0.55837975 0.74656935]]\n",
      "\n",
      " [[0.24616618 0.90847252 0.7073089 ]\n",
      "  [0.95124493 0.91999316 0.47988268]]\n",
      "\n",
      " [[0.83154255 0.77168624 0.68885198]\n",
      "  [0.7202764  0.62098321 0.34676099]]\n",
      "\n",
      " [[0.80200807 0.17621058 0.48848314]\n",
      "  [0.98008389 0.08426724 0.81014425]]\n",
      "\n",
      " [[0.54422193 0.46220411 0.11992638]\n",
      "  [0.69190577 0.38654878 0.69956428]]]\n"
     ]
    }
   ],
   "source": [
    "#Usando RANDOM com NUMPY fica bem mais rápido que o exemplo acima\n",
    "print( np.random.random() )\n",
    "print( np.random.random(5) )\n",
    "print( np.random.random((5,3)) )\n",
    "print( np.random.random((5,2,3)) )"
   ]
  },
  {
   "cell_type": "code",
   "execution_count": 77,
   "metadata": {},
   "outputs": [
    {
     "name": "stdout",
     "output_type": "stream",
     "text": [
      "[ 0.0648846  -0.15203319  0.61111249  1.09107526  0.46645546]\n",
      "[-1.02351887 -0.8243556  -1.20981083  0.64402031 -0.42914584]\n",
      "[[ 0.12914137 -0.9355376  -2.10061258]\n",
      " [ 0.79336923  0.4021533   0.58979919]\n",
      " [ 0.45752665  2.17822835 -0.57890411]\n",
      " [ 0.87214883  0.47933248  0.42446316]\n",
      " [-0.72559537 -0.00482856  0.1953793 ]]\n"
     ]
    }
   ],
   "source": [
    "#normal distribuition\n",
    "print( np.random.normal(0, 1, 5) )\n",
    "print( np.random.normal(0, 1, 5) )\n",
    "print( np.random.normal(0, 1, (5,3)) )"
   ]
  },
  {
   "cell_type": "code",
   "execution_count": 80,
   "metadata": {},
   "outputs": [
    {
     "data": {
      "text/plain": [
       "(array([  5.,  19.,  74., 198., 241., 271., 131.,  43.,  16.,   2.]),\n",
       " array([294. , 305.6, 317.2, 328.8, 340.4, 352. , 363.6, 375.2, 386.8,\n",
       "        398.4, 410. ]),\n",
       " <a list of 10 Patch objects>)"
      ]
     },
     "execution_count": 80,
     "metadata": {},
     "output_type": "execute_result"
    },
    {
     "data": {
      "image/png": "[encoded data removed]",
      "text/plain": [
       "<Figure size 432x288 with 1 Axes>"
      ]
     },
     "metadata": {
      "needs_background": "light"
     },
     "output_type": "display_data"
    }
   ],
   "source": [
    "X = np.random.randint(1, 7, (1000,100)) #primeiro e segundo parametros indicam os valores min e max\n",
    "Y = np.sum(X, axis=1) # somar por colunas\n",
    "plt.hist(Y)"
   ]
  },
  {
   "cell_type": "code",
   "execution_count": 83,
   "metadata": {},
   "outputs": [
    {
     "data": {
      "text/plain": [
       "array([369, 357, 373, 379, 328, 328, 323, 359, 357, 355])"
      ]
     },
     "execution_count": 83,
     "metadata": {},
     "output_type": "execute_result"
    }
   ],
   "source": [
    "np.sum(np.random.randint(1,7,(100,10)), axis=0)"
   ]
  },
  {
   "cell_type": "code",
   "execution_count": 95,
   "metadata": {},
   "outputs": [
    {
     "name": "stdout",
     "output_type": "stream",
     "text": [
      "331082.3410146\n",
      "331097.3433424\n",
      "15.002327799971681\n"
     ]
    }
   ],
   "source": [
    "#verificando tempos de execução \n",
    "#usando TIME CLOCK\n",
    "\n",
    "#EXEMPLO COM PYTHON (sem numpy)\n",
    "start_time = time.perf_counter()\n",
    "ys = []\n",
    "for rep in range(1000000):\n",
    "    y = 0\n",
    "    for k in range(10):\n",
    "        x = random.choice([1,2,3,4,5,6])\n",
    "        y = y + x\n",
    "    ys.append(y)\n",
    "end_time = time.perf_counter()\n",
    "\n",
    "print(start_time)\n",
    "print(end_time)\n",
    "tempo_py = end_time - start_time\n",
    "print(tempo_py)"
   ]
  },
  {
   "cell_type": "code",
   "execution_count": 96,
   "metadata": {},
   "outputs": [
    {
     "name": "stdout",
     "output_type": "stream",
     "text": [
      "331100.1198935\n",
      "331100.287836\n",
      "0.16794249997474253\n"
     ]
    }
   ],
   "source": [
    "#EXEMPLO COM NUMPY\n",
    "start_time = time.perf_counter()\n",
    "X = np.random.randint(1, 7, (1000000,10)) #primeiro e segundo parametros indicam os valores min e max\n",
    "Y = np.sum(X, axis=1) # somar por colunas\n",
    "end_time = time.perf_counter()\n",
    "\n",
    "print(start_time)\n",
    "print(end_time)\n",
    "tempo_np = end_time - start_time\n",
    "print(tempo_np)"
   ]
  },
  {
   "cell_type": "code",
   "execution_count": 98,
   "metadata": {},
   "outputs": [
    {
     "data": {
      "text/plain": [
       "89.33014455678541"
      ]
     },
     "execution_count": 98,
     "metadata": {},
     "output_type": "execute_result"
    }
   ],
   "source": [
    "#quantidade de vezes mais rapido o NUMPY\n",
    "tempo_py / tempo_np "
   ]
  },
  {
   "cell_type": "code",
   "execution_count": 10,
   "metadata": {},
   "outputs": [
    {
     "name": "stdout",
     "output_type": "stream",
     "text": [
      "[[-0.67010353  2.2189226  -2.34906126 -0.14085141 -0.93654455]\n",
      " [ 0.53800844  1.84604059  0.76083939 -0.50797348 -0.68231727]] \n",
      "\n",
      " [[ 0.         -0.67010353  1.54881907 -0.80024219 -0.9410936  -1.87763815]\n",
      " [ 0.          0.53800844  2.38404903  3.14488841  2.63691494  1.95459766]]\n"
     ]
    },
    {
     "data": {
      "text/plain": [
       "[<matplotlib.lines.Line2D at 0x1c81ed68a88>]"
      ]
     },
     "execution_count": 10,
     "metadata": {},
     "output_type": "execute_result"
    },
    {
     "data": {
      "image/png": "[encoded data removed]",
      "text/plain": [
       "<Figure size 432x288 with 1 Axes>"
      ]
     },
     "metadata": {
      "needs_background": "light"
     },
     "output_type": "display_data"
    }
   ],
   "source": [
    "#RANDOM WALKS\n",
    "X_0 = np.array([[0],[0]]) #inicio\n",
    "delta_X = np.random.normal(0, 1, (2,5))\n",
    "X = np.cumsum(delta_X, axis = 1) #cada valor da lista é somado ao próximo valor, acumulando\n",
    "X = np.concatenate((X_0, X), axis=1)\n",
    "print(delta_X, '\\n\\n', X)\n",
    "plt.plot(X[0], X[1], 'ro-')"
   ]
  },
  {
   "cell_type": "code",
   "execution_count": 12,
   "metadata": {},
   "outputs": [
    {
     "name": "stdout",
     "output_type": "stream",
     "text": [
      "Help on built-in function concatenate in module numpy:\n",
      "\n",
      "concatenate(...)\n",
      "    concatenate((a1, a2, ...), axis=0, out=None)\n",
      "    \n",
      "    Join a sequence of arrays along an existing axis.\n",
      "    \n",
      "    Parameters\n",
      "    ----------\n",
      "    a1, a2, ... : sequence of array_like\n",
      "        The arrays must have the same shape, except in the dimension\n",
      "        corresponding to `axis` (the first, by default).\n",
      "    axis : int, optional\n",
      "        The axis along which the arrays will be joined.  If axis is None,\n",
      "        arrays are flattened before use.  Default is 0.\n",
      "    out : ndarray, optional\n",
      "        If provided, the destination to place the result. The shape must be\n",
      "        correct, matching that of what concatenate would have returned if no\n",
      "        out argument were specified.\n",
      "    \n",
      "    Returns\n",
      "    -------\n",
      "    res : ndarray\n",
      "        The concatenated array.\n",
      "    \n",
      "    See Also\n",
      "    --------\n",
      "    ma.concatenate : Concatenate function that preserves input masks.\n",
      "    array_split : Split an array into multiple sub-arrays of equal or\n",
      "                  near-equal size.\n",
      "    split : Split array into a list of multiple sub-arrays of equal size.\n",
      "    hsplit : Split array into multiple sub-arrays horizontally (column wise)\n",
      "    vsplit : Split array into multiple sub-arrays vertically (row wise)\n",
      "    dsplit : Split array into multiple sub-arrays along the 3rd axis (depth).\n",
      "    stack : Stack a sequence of arrays along a new axis.\n",
      "    hstack : Stack arrays in sequence horizontally (column wise)\n",
      "    vstack : Stack arrays in sequence vertically (row wise)\n",
      "    dstack : Stack arrays in sequence depth wise (along third dimension)\n",
      "    block : Assemble arrays from blocks.\n",
      "    \n",
      "    Notes\n",
      "    -----\n",
      "    When one or more of the arrays to be concatenated is a MaskedArray,\n",
      "    this function will return a MaskedArray object instead of an ndarray,\n",
      "    but the input masks are *not* preserved. In cases where a MaskedArray\n",
      "    is expected as input, use the ma.concatenate function from the masked\n",
      "    array module instead.\n",
      "    \n",
      "    Examples\n",
      "    --------\n",
      "    >>> a = np.array([[1, 2], [3, 4]])\n",
      "    >>> b = np.array([[5, 6]])\n",
      "    >>> np.concatenate((a, b), axis=0)\n",
      "    array([[1, 2],\n",
      "           [3, 4],\n",
      "           [5, 6]])\n",
      "    >>> np.concatenate((a, b.T), axis=1)\n",
      "    array([[1, 2, 5],\n",
      "           [3, 4, 6]])\n",
      "    >>> np.concatenate((a, b), axis=None)\n",
      "    array([1, 2, 3, 4, 5, 6])\n",
      "    \n",
      "    This function will not preserve masking of MaskedArray inputs.\n",
      "    \n",
      "    >>> a = np.ma.arange(3)\n",
      "    >>> a[1] = np.ma.masked\n",
      "    >>> b = np.arange(2, 5)\n",
      "    >>> a\n",
      "    masked_array(data=[0, --, 2],\n",
      "                 mask=[False,  True, False],\n",
      "           fill_value=999999)\n",
      "    >>> b\n",
      "    array([2, 3, 4])\n",
      "    >>> np.concatenate([a, b])\n",
      "    masked_array(data=[0, 1, 2, 2, 3, 4],\n",
      "                 mask=False,\n",
      "           fill_value=999999)\n",
      "    >>> np.ma.concatenate([a, b])\n",
      "    masked_array(data=[0, --, 2, 2, 3, 4],\n",
      "                 mask=[False,  True, False, False, False, False],\n",
      "           fill_value=999999)\n",
      "\n"
     ]
    }
   ],
   "source": [
    "help(np.concatenate)"
   ]
  }
 ],
 "metadata": {
  "kernelspec": {
   "display_name": "Python 3",
   "language": "python",
   "name": "python3"
  },
  "language_info": {
   "codemirror_mode": {
    "name": "ipython",
    "version": 3
   },
   "file_extension": ".py",
   "mimetype": "text/x-python",
   "name": "python",
   "nbconvert_exporter": "python",
   "pygments_lexer": "ipython3",
   "version": "3.7.4"
  }
 },
 "nbformat": 4,
 "nbformat_minor": 4
}
