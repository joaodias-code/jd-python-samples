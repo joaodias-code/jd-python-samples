{
 "cells": [
  {
   "cell_type": "markdown",
   "metadata": {},
   "source": [
    "### Count Words\n",
    "\n",
    "Python project to count words from bigger files.\n"
   ]
  },
  {
   "cell_type": "code",
   "execution_count": 5,
   "metadata": {},
   "outputs": [
    {
     "data": {
      "text/plain": [
       "6"
      ]
     },
     "execution_count": 5,
     "metadata": {},
     "output_type": "execute_result"
    }
   ],
   "source": [
    "text = 'This comprehension check is to check for comprehension'\n",
    "\n",
    "def count_words(text):\n",
    "    text = text.lower()\n",
    "    \n",
    "    skips = [',', '.', ':', ';', \"'\", '\"']\n",
    "    for s in skips:\n",
    "        text = text.replace(s, '')\n",
    "    \n",
    "    words_count = {}\n",
    "    for word in text.split(\" \"):\n",
    "        if (word in words_count):\n",
    "            words_count[word] += 1\n",
    "        else:\n",
    "            words_count[word] = 1\n",
    "    return words_count\n",
    "\n",
    "len(count_words(text))"
   ]
  },
  {
   "cell_type": "code",
   "execution_count": 10,
   "metadata": {},
   "outputs": [
    {
     "data": {
      "text/plain": [
       "False"
      ]
     },
     "execution_count": 10,
     "metadata": {},
     "output_type": "execute_result"
    }
   ],
   "source": [
    "from collections import Counter\n",
    "\n",
    "def count_words_fast(text):\n",
    "    text = text.lower()\n",
    "    \n",
    "    skips = [',', '.', ':', ';', \"'\", '\"']\n",
    "    for s in skips:\n",
    "        text = text.replace(s, '')\n",
    "    \n",
    "    words_count = Counter(text.split(\" \"))\n",
    "    return words_count\n",
    "\n",
    "count_words(text) is count_words_fast(text)"
   ]
  }
 ],
 "metadata": {
  "kernelspec": {
   "display_name": "Python 3",
   "language": "python",
   "name": "python3"
  },
  "language_info": {
   "codemirror_mode": {
    "name": "ipython",
    "version": 3
   },
   "file_extension": ".py",
   "mimetype": "text/x-python",
   "name": "python",
   "nbconvert_exporter": "python",
   "pygments_lexer": "ipython3",
   "version": "3.7.4"
  }
 },
 "nbformat": 4,
 "nbformat_minor": 4
}
