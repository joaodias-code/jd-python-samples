{
 "cells": [
  {
   "cell_type": "markdown",
   "metadata": {},
   "source": [
    "### Count Words\n",
    "\n",
    "Python project to count words from bigger files.\n"
   ]
  },
  {
   "cell_type": "code",
   "execution_count": 81,
   "metadata": {},
   "outputs": [
    {
     "data": {
      "text/plain": [
       "{'this': 1, 'comprehension': 2, 'check': 2, 'is': 1, 'to': 1, 'for': 1}"
      ]
     },
     "execution_count": 81,
     "metadata": {},
     "output_type": "execute_result"
    }
   ],
   "source": [
    "text = 'This comprehension check is to check for comprehension'\n",
    "\n",
    "def count_words(text):\n",
    "    \"\"\"\n",
    "    Counter words from a text.\n",
    "    \"\"\"\n",
    "    text = text.lower()\n",
    "    \n",
    "    skips = [\".\", \",\", \";\", \":\", \"'\", '\"', \"\\n\", \"!\", \"?\", \"(\", \")\"] \n",
    "    for s in skips:\n",
    "        text = text.replace(s, '')\n",
    "    \n",
    "    words_count = {}\n",
    "    for word in text.split(\" \"):\n",
    "        if (word in words_count):\n",
    "            words_count[word] += 1\n",
    "        else:\n",
    "            words_count[word] = 1\n",
    "    return words_count\n",
    "\n",
    "count_words(text)"
   ]
  },
  {
   "cell_type": "code",
   "execution_count": 82,
   "metadata": {},
   "outputs": [
    {
     "name": "stdout",
     "output_type": "stream",
     "text": [
      "Counter({'comprehension': 2, 'check': 2, 'this': 1, 'is': 1, 'to': 1, 'for': 1})\n"
     ]
    }
   ],
   "source": [
    "from collections import Counter\n",
    "\n",
    "def count_words_fast(text):\n",
    "    \"\"\"\n",
    "    Fast counter words from a text.\n",
    "    \"\"\"\n",
    "    text = text.lower()\n",
    "    \n",
    "    skips = [\".\", \",\", \";\", \":\", \"'\", '\"', \"\\n\", \"!\", \"?\", \"(\", \")\"] \n",
    "    for s in skips:\n",
    "        text = text.replace(s, '')\n",
    "    \n",
    "    words_count = Counter(text.split(\" \"))\n",
    "    return words_count\n",
    "\n",
    "print(count_words_fast(text))"
   ]
  },
  {
   "cell_type": "code",
   "execution_count": 3,
   "metadata": {},
   "outputs": [
    {
     "data": {
      "text/plain": [
       "169275"
      ]
     },
     "execution_count": 3,
     "metadata": {},
     "output_type": "execute_result"
    }
   ],
   "source": [
    "def read_book(title_path):\n",
    "    \"\"\"\n",
    "    Read a book from a path.\n",
    "    \"\"\"\n",
    "    with open(title_path, \"r\", encoding=\"utf-8\") as current_file:\n",
    "        text = current_file.read()\n",
    "        text = text.replace(\"\\n\",\"\").replace(\"\\r\",\"\")\n",
    "    return text\n",
    "\n",
    "book = read_book('../_datasets/Books_EngFr/Books_EngFr/English/shakespeare/Romeo and Juliet.txt')\n",
    "len(book)"
   ]
  },
  {
   "cell_type": "code",
   "execution_count": 4,
   "metadata": {},
   "outputs": [
    {
     "data": {
      "text/plain": [
       "\"What's in a name? That which we call a rose    By any other name would smell as sweet.    So Romeo would, were he not Romeo call'd,    Retain that dear perfection which he owes    Without that title. Romeo, doff thy name;    And for that name, which is no part of thee,    Take all myself.  Rom. I take thee at thy word.    Call me but love, and I'll be new baptiz'd;    Henceforth I never will be Romeo.  Jul. What man art thou that, thus bescreen'd in night,    So stumblest on my counsel?  Rom. By a name    I know not how to tell thee who I am.    My name, dear saint, is hateful to myself,    Because it is an enemy to thee.    Had I it written, I would tear the word.  Jul. My ears have yet not drunk a hundred words    Of that tongue's utterance, yet I know the sound.    Art thou not Romeo, and a Montague?  Rom. Neither, fair saint, if either thee dislike.  Jul. How cam'st thou hither, tell me, and wherefore?    The orchard walls are high and hard to climb,    And the place death, conside\""
      ]
     },
     "execution_count": 4,
     "metadata": {},
     "output_type": "execute_result"
    }
   ],
   "source": [
    "#procurar um texto no livro\n",
    "index = book.find(\"What's in a name?\")\n",
    "sample_text = book[index : index + 1000]\n",
    "sample_text"
   ]
  },
  {
   "cell_type": "code",
   "execution_count": 13,
   "metadata": {},
   "outputs": [
    {
     "name": "stdout",
     "output_type": "stream",
     "text": [
      "EN - Quantidade de palavras sem repetir:  5118\n",
      "EN - Total de palavras:  40776\n",
      "GE - Quantidade de palavras sem repetir:  7527\n",
      "GE - Quantidade de palavras:  20311\n"
     ]
    }
   ],
   "source": [
    "def word_stats(words_count):\n",
    "    \"\"\"\n",
    "    Returns number of unique words and words frequencies.\n",
    "    \"\"\"\n",
    "    num_unique = len(words_count)\n",
    "    counts = words_count.values()\n",
    "    return (num_unique, counts)\n",
    "\n",
    "\n",
    "book = read_book('../_datasets/Books_EngFr/Books_EngFr/English/shakespeare/Romeo and Juliet.txt')\n",
    "word_counts = count_words(book)\n",
    "num_unique, counts = word_stats(word_counts)\n",
    "\n",
    "print(\"EN - Quantidade de palavras sem repetir: \", num_unique)\n",
    "print(\"EN - Total de palavras: \", sum(counts))\n",
    "\n",
    "\n",
    "book = read_book('../_datasets/Books_GerPort/Books_GerPort/German/shakespeare/Romeo und Julia.txt')\n",
    "word_counts = count_words(book)\n",
    "num_unique, counts = word_stats(word_counts)\n",
    "\n",
    "print(\"GE - Quantidade de palavras sem repetir: \", num_unique)\n",
    "print(\"GE - Quantidade de palavras: \", sum(counts))"
   ]
  },
  {
   "cell_type": "code",
   "execution_count": 35,
   "metadata": {},
   "outputs": [
    {
     "data": {
      "text/html": [
       "<div>\n",
       "<style scoped>\n",
       "    .dataframe tbody tr th:only-of-type {\n",
       "        vertical-align: middle;\n",
       "    }\n",
       "\n",
       "    .dataframe tbody tr th {\n",
       "        vertical-align: top;\n",
       "    }\n",
       "\n",
       "    .dataframe thead th {\n",
       "        text-align: right;\n",
       "    }\n",
       "</style>\n",
       "<table border=\"1\" class=\"dataframe\">\n",
       "  <thead>\n",
       "    <tr style=\"text-align: right;\">\n",
       "      <th></th>\n",
       "      <th>language</th>\n",
       "      <th>author</th>\n",
       "      <th>title</th>\n",
       "      <th>length</th>\n",
       "      <th>words</th>\n",
       "    </tr>\n",
       "  </thead>\n",
       "  <tbody>\n",
       "    <tr>\n",
       "      <td>1</td>\n",
       "      <td>English</td>\n",
       "      <td>Shakespeare</td>\n",
       "      <td>A Midsummer Night's Dream</td>\n",
       "      <td>16103</td>\n",
       "      <td>4345</td>\n",
       "    </tr>\n",
       "    <tr>\n",
       "      <td>2</td>\n",
       "      <td>English</td>\n",
       "      <td>Shakespeare</td>\n",
       "      <td>Hamlet</td>\n",
       "      <td>28551</td>\n",
       "      <td>6776</td>\n",
       "    </tr>\n",
       "    <tr>\n",
       "      <td>3</td>\n",
       "      <td>English</td>\n",
       "      <td>Shakespeare</td>\n",
       "      <td>Macbeth</td>\n",
       "      <td>16874</td>\n",
       "      <td>4780</td>\n",
       "    </tr>\n",
       "    <tr>\n",
       "      <td>4</td>\n",
       "      <td>English</td>\n",
       "      <td>Shakespeare</td>\n",
       "      <td>Othello</td>\n",
       "      <td>26590</td>\n",
       "      <td>5898</td>\n",
       "    </tr>\n",
       "    <tr>\n",
       "      <td>5</td>\n",
       "      <td>English</td>\n",
       "      <td>Shakespeare</td>\n",
       "      <td>Richard III</td>\n",
       "      <td>48315</td>\n",
       "      <td>5449</td>\n",
       "    </tr>\n",
       "    <tr>\n",
       "      <td>6</td>\n",
       "      <td>English</td>\n",
       "      <td>Shakespeare</td>\n",
       "      <td>Romeo and Juliet</td>\n",
       "      <td>40776</td>\n",
       "      <td>5118</td>\n",
       "    </tr>\n",
       "    <tr>\n",
       "      <td>7</td>\n",
       "      <td>English</td>\n",
       "      <td>Shakespeare</td>\n",
       "      <td>The Merchant of Venice</td>\n",
       "      <td>20949</td>\n",
       "      <td>4978</td>\n",
       "    </tr>\n",
       "    <tr>\n",
       "      <td>8</td>\n",
       "      <td>French</td>\n",
       "      <td>Chevalier</td>\n",
       "      <td>L'åle de sable</td>\n",
       "      <td>73801</td>\n",
       "      <td>18989</td>\n",
       "    </tr>\n",
       "    <tr>\n",
       "      <td>9</td>\n",
       "      <td>French</td>\n",
       "      <td>Chevalier</td>\n",
       "      <td>L'enfer et le paradis de l'autre monde</td>\n",
       "      <td>40827</td>\n",
       "      <td>10831</td>\n",
       "    </tr>\n",
       "    <tr>\n",
       "      <td>10</td>\n",
       "      <td>French</td>\n",
       "      <td>Chevalier</td>\n",
       "      <td>La capitaine</td>\n",
       "      <td>46306</td>\n",
       "      <td>13083</td>\n",
       "    </tr>\n",
       "    <tr>\n",
       "      <td>11</td>\n",
       "      <td>French</td>\n",
       "      <td>Chevalier</td>\n",
       "      <td>La fille des indiens rouges</td>\n",
       "      <td>66621</td>\n",
       "      <td>17875</td>\n",
       "    </tr>\n",
       "    <tr>\n",
       "      <td>12</td>\n",
       "      <td>French</td>\n",
       "      <td>Chevalier</td>\n",
       "      <td>La fille du pirate</td>\n",
       "      <td>52519</td>\n",
       "      <td>14649</td>\n",
       "    </tr>\n",
       "    <tr>\n",
       "      <td>13</td>\n",
       "      <td>French</td>\n",
       "      <td>Chevalier</td>\n",
       "      <td>Le chasseur noir</td>\n",
       "      <td>51341</td>\n",
       "      <td>12945</td>\n",
       "    </tr>\n",
       "    <tr>\n",
       "      <td>14</td>\n",
       "      <td>French</td>\n",
       "      <td>Chevalier</td>\n",
       "      <td>Les derniers Iroquois</td>\n",
       "      <td>55565</td>\n",
       "      <td>15583</td>\n",
       "    </tr>\n",
       "    <tr>\n",
       "      <td>15</td>\n",
       "      <td>French</td>\n",
       "      <td>De maupassant</td>\n",
       "      <td>Boule de Suif</td>\n",
       "      <td>35905</td>\n",
       "      <td>10725</td>\n",
       "    </tr>\n",
       "    <tr>\n",
       "      <td>16</td>\n",
       "      <td>French</td>\n",
       "      <td>De maupassant</td>\n",
       "      <td>Claire de Lune</td>\n",
       "      <td>25975</td>\n",
       "      <td>8076</td>\n",
       "    </tr>\n",
       "    <tr>\n",
       "      <td>17</td>\n",
       "      <td>French</td>\n",
       "      <td>De maupassant</td>\n",
       "      <td>Contes de la Becasse</td>\n",
       "      <td>34723</td>\n",
       "      <td>10210</td>\n",
       "    </tr>\n",
       "    <tr>\n",
       "      <td>18</td>\n",
       "      <td>French</td>\n",
       "      <td>De maupassant</td>\n",
       "      <td>L'inutile beautÇ</td>\n",
       "      <td>37840</td>\n",
       "      <td>10781</td>\n",
       "    </tr>\n",
       "    <tr>\n",
       "      <td>19</td>\n",
       "      <td>French</td>\n",
       "      <td>De maupassant</td>\n",
       "      <td>La Main Gauche</td>\n",
       "      <td>33481</td>\n",
       "      <td>9983</td>\n",
       "    </tr>\n",
       "    <tr>\n",
       "      <td>20</td>\n",
       "      <td>French</td>\n",
       "      <td>De maupassant</td>\n",
       "      <td>La Maison Tellier</td>\n",
       "      <td>43685</td>\n",
       "      <td>12305</td>\n",
       "    </tr>\n",
       "  </tbody>\n",
       "</table>\n",
       "</div>"
      ],
      "text/plain": [
       "   language         author                                   title length  \\\n",
       "1   English    Shakespeare               A Midsummer Night's Dream  16103   \n",
       "2   English    Shakespeare                                  Hamlet  28551   \n",
       "3   English    Shakespeare                                 Macbeth  16874   \n",
       "4   English    Shakespeare                                 Othello  26590   \n",
       "5   English    Shakespeare                             Richard III  48315   \n",
       "6   English    Shakespeare                        Romeo and Juliet  40776   \n",
       "7   English    Shakespeare                  The Merchant of Venice  20949   \n",
       "8    French      Chevalier                         L'åle de sable  73801   \n",
       "9    French      Chevalier  L'enfer et le paradis de l'autre monde  40827   \n",
       "10   French      Chevalier                            La capitaine  46306   \n",
       "11   French      Chevalier             La fille des indiens rouges  66621   \n",
       "12   French      Chevalier                      La fille du pirate  52519   \n",
       "13   French      Chevalier                        Le chasseur noir  51341   \n",
       "14   French      Chevalier                   Les derniers Iroquois  55565   \n",
       "15   French  De maupassant                           Boule de Suif  35905   \n",
       "16   French  De maupassant                          Claire de Lune  25975   \n",
       "17   French  De maupassant                    Contes de la Becasse  34723   \n",
       "18   French  De maupassant                       L'inutile beautÇ  37840   \n",
       "19   French  De maupassant                          La Main Gauche  33481   \n",
       "20   French  De maupassant                       La Maison Tellier  43685   \n",
       "\n",
       "    words  \n",
       "1    4345  \n",
       "2    6776  \n",
       "3    4780  \n",
       "4    5898  \n",
       "5    5449  \n",
       "6    5118  \n",
       "7    4978  \n",
       "8   18989  \n",
       "9   10831  \n",
       "10  13083  \n",
       "11  17875  \n",
       "12  14649  \n",
       "13  12945  \n",
       "14  15583  \n",
       "15  10725  \n",
       "16   8076  \n",
       "17  10210  \n",
       "18  10781  \n",
       "19   9983  \n",
       "20  12305  "
      ]
     },
     "execution_count": 35,
     "metadata": {},
     "output_type": "execute_result"
    }
   ],
   "source": [
    "import os\n",
    "import pandas as pd\n",
    "\n",
    "language_dir = '../_datasets/Books'\n",
    "\n",
    "df_books = pd.DataFrame(columns=('language', 'author', 'title', 'length', 'words'))\n",
    "cod = 1\n",
    "\n",
    "for language in os.listdir(language_dir):\n",
    "    for author in os.listdir(language_dir + '/' + language):\n",
    "        for title in os.listdir(language_dir + '/' + language + '/' + author):\n",
    "            text = read_book(language_dir + '/' + language + '/' + author + '/' + title)\n",
    "            (num_unique, counts) = word_stats(count_words_fast(text))\n",
    "            df_books.loc[cod] = language, author.capitalize(), title.replace('.txt', ''), sum(counts), num_unique\n",
    "            cod += 1\n",
    "\n",
    "df_books.head(20)"
   ]
  },
  {
   "cell_type": "code",
   "execution_count": 45,
   "metadata": {},
   "outputs": [
    {
     "data": {
      "text/plain": [
       "[]"
      ]
     },
     "execution_count": 45,
     "metadata": {},
     "output_type": "execute_result"
    },
    {
     "data": {
      "image/png": "[encoded data removed]",
      "text/plain": [
       "<Figure size 432x288 with 1 Axes>"
      ]
     },
     "metadata": {
      "needs_background": "light"
     },
     "output_type": "display_data"
    }
   ],
   "source": [
    "import matplotlib.pyplot as plt\n",
    "\n",
    "plt.scatter(df_books['length'], df_books['words'])\n",
    "plt.ylabel('Quantidade de palavras únicas')\n",
    "plt.xlabel('Tamanho do livro')\n",
    "#plt.plot()\n",
    "plt.loglog()"
   ]
  },
  {
   "cell_type": "code",
   "execution_count": 61,
   "metadata": {},
   "outputs": [
    {
     "data": {
      "text/plain": [
       "[]"
      ]
     },
     "execution_count": 61,
     "metadata": {},
     "output_type": "execute_result"
    },
    {
     "data": {
      "image/png": "[encoded data removed]",
      "text/plain": [
       "<Figure size 432x288 with 1 Axes>"
      ]
     },
     "metadata": {
      "needs_background": "light"
     },
     "output_type": "display_data"
    }
   ],
   "source": [
    "#pegar os linguas dos livros\n",
    "languages_list = os.listdir(language_dir)\n",
    "colors = ['crimson', 'forestgreen', 'orange', 'blueviolet']\n",
    "i = 0\n",
    "\n",
    "for language in languages_list:\n",
    "    subset = df_books[df_books['language'] == language]\n",
    "    plt.loglog(subset.length, subset.words, \"o\", label=language, color=colors[i])\n",
    "    i += 1\n",
    "\n",
    "plt.legend()\n",
    "plt.xlabel('Tamanho do livro')\n",
    "plt.ylabel('Quantidade de palavras únicas')\n",
    "plt.plot()"
   ]
  },
  {
   "cell_type": "markdown",
   "metadata": {},
   "source": [
    "### Exercise:"
   ]
  },
  {
   "cell_type": "code",
   "execution_count": 65,
   "metadata": {},
   "outputs": [
    {
     "data": {
      "text/html": [
       "<div>\n",
       "<style scoped>\n",
       "    .dataframe tbody tr th:only-of-type {\n",
       "        vertical-align: middle;\n",
       "    }\n",
       "\n",
       "    .dataframe tbody tr th {\n",
       "        vertical-align: top;\n",
       "    }\n",
       "\n",
       "    .dataframe thead th {\n",
       "        text-align: right;\n",
       "    }\n",
       "</style>\n",
       "<table border=\"1\" class=\"dataframe\">\n",
       "  <thead>\n",
       "    <tr style=\"text-align: right;\">\n",
       "      <th></th>\n",
       "      <th>language</th>\n",
       "      <th>text</th>\n",
       "    </tr>\n",
       "  </thead>\n",
       "  <tbody>\n",
       "    <tr>\n",
       "      <td>1</td>\n",
       "      <td>English</td>\n",
       "      <td>The Tragedie of Hamlet\\n                      ...</td>\n",
       "    </tr>\n",
       "    <tr>\n",
       "      <td>2</td>\n",
       "      <td>German</td>\n",
       "      <td>Hamlet, Prinz von Dännemark.\\n                ...</td>\n",
       "    </tr>\n",
       "    <tr>\n",
       "      <td>3</td>\n",
       "      <td>Portuguese</td>\n",
       "      <td>HAMLET\\n                             DRAMA EM ...</td>\n",
       "    </tr>\n",
       "  </tbody>\n",
       "</table>\n",
       "</div>"
      ],
      "text/plain": [
       "     language                                               text\n",
       "1     English  The Tragedie of Hamlet\\n                      ...\n",
       "2      German  Hamlet, Prinz von Dännemark.\\n                ...\n",
       "3  Portuguese  HAMLET\\n                             DRAMA EM ..."
      ]
     },
     "execution_count": 65,
     "metadata": {},
     "output_type": "execute_result"
    }
   ],
   "source": [
    "import pandas as pd\n",
    "hamlets = pd.read_csv('../_datasets/hamlets.csv', index_col=0)\n",
    "hamlets"
   ]
  },
  {
   "cell_type": "code",
   "execution_count": 86,
   "metadata": {},
   "outputs": [
    {
     "data": {
      "text/html": [
       "<div>\n",
       "<style scoped>\n",
       "    .dataframe tbody tr th:only-of-type {\n",
       "        vertical-align: middle;\n",
       "    }\n",
       "\n",
       "    .dataframe tbody tr th {\n",
       "        vertical-align: top;\n",
       "    }\n",
       "\n",
       "    .dataframe thead th {\n",
       "        text-align: right;\n",
       "    }\n",
       "</style>\n",
       "<table border=\"1\" class=\"dataframe\">\n",
       "  <thead>\n",
       "    <tr style=\"text-align: right;\">\n",
       "      <th></th>\n",
       "      <th>word</th>\n",
       "      <th>count</th>\n",
       "    </tr>\n",
       "  </thead>\n",
       "  <tbody>\n",
       "    <tr>\n",
       "      <td>3</td>\n",
       "      <td>hamlet</td>\n",
       "      <td>97</td>\n",
       "    </tr>\n",
       "  </tbody>\n",
       "</table>\n",
       "</div>"
      ],
      "text/plain": [
       "     word  count\n",
       "3  hamlet     97"
      ]
     },
     "execution_count": 86,
     "metadata": {},
     "output_type": "execute_result"
    }
   ],
   "source": [
    "language, text = hamlets.iloc[0]\n",
    "\n",
    "counted_text = count_words_fast(text)\n",
    "\n",
    "data = pd.DataFrame(columns=('word', 'count'))\n",
    "data['word'] = counted_text.keys()\n",
    "data['count'] = counted_text.values()\n",
    "\n",
    "data.head(30)\n",
    "data[data['word'] == 'hamlet']"
   ]
  },
  {
   "cell_type": "code",
   "execution_count": 104,
   "metadata": {},
   "outputs": [
    {
     "data": {
      "text/html": [
       "<div>\n",
       "<style scoped>\n",
       "    .dataframe tbody tr th:only-of-type {\n",
       "        vertical-align: middle;\n",
       "    }\n",
       "\n",
       "    .dataframe tbody tr th {\n",
       "        vertical-align: top;\n",
       "    }\n",
       "\n",
       "    .dataframe thead th {\n",
       "        text-align: right;\n",
       "    }\n",
       "</style>\n",
       "<table border=\"1\" class=\"dataframe\">\n",
       "  <thead>\n",
       "    <tr style=\"text-align: right;\">\n",
       "      <th></th>\n",
       "      <th>word</th>\n",
       "      <th>count</th>\n",
       "      <th>length</th>\n",
       "      <th>frequency</th>\n",
       "    </tr>\n",
       "  </thead>\n",
       "  <tbody>\n",
       "    <tr>\n",
       "      <td>6</td>\n",
       "      <td>primus</td>\n",
       "      <td>1</td>\n",
       "      <td>6</td>\n",
       "      <td>unique</td>\n",
       "    </tr>\n",
       "    <tr>\n",
       "      <td>7</td>\n",
       "      <td>scoena</td>\n",
       "      <td>1</td>\n",
       "      <td>6</td>\n",
       "      <td>unique</td>\n",
       "    </tr>\n",
       "    <tr>\n",
       "      <td>8</td>\n",
       "      <td>prima</td>\n",
       "      <td>1</td>\n",
       "      <td>5</td>\n",
       "      <td>unique</td>\n",
       "    </tr>\n",
       "    <tr>\n",
       "      <td>12</td>\n",
       "      <td>francisco</td>\n",
       "      <td>1</td>\n",
       "      <td>9</td>\n",
       "      <td>unique</td>\n",
       "    </tr>\n",
       "    <tr>\n",
       "      <td>14</td>\n",
       "      <td>centinels</td>\n",
       "      <td>1</td>\n",
       "      <td>9</td>\n",
       "      <td>unique</td>\n",
       "    </tr>\n",
       "    <tr>\n",
       "      <td>...</td>\n",
       "      <td>...</td>\n",
       "      <td>...</td>\n",
       "      <td>...</td>\n",
       "      <td>...</td>\n",
       "    </tr>\n",
       "    <tr>\n",
       "      <td>5108</td>\n",
       "      <td>shooteexeunt</td>\n",
       "      <td>1</td>\n",
       "      <td>12</td>\n",
       "      <td>unique</td>\n",
       "    </tr>\n",
       "    <tr>\n",
       "      <td>5109</td>\n",
       "      <td>marching</td>\n",
       "      <td>1</td>\n",
       "      <td>8</td>\n",
       "      <td>unique</td>\n",
       "    </tr>\n",
       "    <tr>\n",
       "      <td>5110</td>\n",
       "      <td>peale</td>\n",
       "      <td>1</td>\n",
       "      <td>5</td>\n",
       "      <td>unique</td>\n",
       "    </tr>\n",
       "    <tr>\n",
       "      <td>5111</td>\n",
       "      <td>ord</td>\n",
       "      <td>1</td>\n",
       "      <td>3</td>\n",
       "      <td>unique</td>\n",
       "    </tr>\n",
       "    <tr>\n",
       "      <td>5112</td>\n",
       "      <td>finis</td>\n",
       "      <td>1</td>\n",
       "      <td>5</td>\n",
       "      <td>unique</td>\n",
       "    </tr>\n",
       "  </tbody>\n",
       "</table>\n",
       "<p>3348 rows × 4 columns</p>\n",
       "</div>"
      ],
      "text/plain": [
       "              word  count  length frequency\n",
       "6           primus      1       6    unique\n",
       "7           scoena      1       6    unique\n",
       "8            prima      1       5    unique\n",
       "12       francisco      1       9    unique\n",
       "14       centinels      1       9    unique\n",
       "...            ...    ...     ...       ...\n",
       "5108  shooteexeunt      1      12    unique\n",
       "5109      marching      1       8    unique\n",
       "5110         peale      1       5    unique\n",
       "5111           ord      1       3    unique\n",
       "5112         finis      1       5    unique\n",
       "\n",
       "[3348 rows x 4 columns]"
      ]
     },
     "execution_count": 104,
     "metadata": {},
     "output_type": "execute_result"
    }
   ],
   "source": [
    "def def_frequency(row):\n",
    "    if (row['count'] > 10):\n",
    "        return 'frequent'\n",
    "    elif (1 < row['count'] <= 10):\n",
    "        return 'infrequent'\n",
    "    elif (row['count'] == 1):\n",
    "        return 'unique'\n",
    "\n",
    "#função lambda para aplicar uma condição na criação de uma nova coluna\n",
    "data['length'] = data.apply (lambda row: len(row['word']), axis=1)\n",
    "data['frequency'] = data.apply (lambda row: def_frequency(row), axis=1)\n",
    "\n",
    "#verificar quantas palavras aparecem uma única vez\n",
    "data[data['frequency'] == 'unique']"
   ]
  },
  {
   "cell_type": "code",
   "execution_count": null,
   "metadata": {},
   "outputs": [],
   "source": []
  }
 ],
 "metadata": {
  "kernelspec": {
   "display_name": "Python 3",
   "language": "python",
   "name": "python3"
  },
  "language_info": {
   "codemirror_mode": {
    "name": "ipython",
    "version": 3
   },
   "file_extension": ".py",
   "mimetype": "text/x-python",
   "name": "python",
   "nbconvert_exporter": "python",
   "pygments_lexer": "ipython3",
   "version": "3.7.4"
  }
 },
 "nbformat": 4,
 "nbformat_minor": 4
}
